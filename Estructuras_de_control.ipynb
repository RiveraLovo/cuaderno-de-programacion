{
  "cells": [
    {
      "cell_type": "markdown",
      "metadata": {
        "id": "view-in-github",
        "colab_type": "text"
      },
      "source": [
        "<a href=\"https://colab.research.google.com/github/RiveraLovo/cuaderno-de-programacion/blob/main/Estructuras_de_control.ipynb\" target=\"_parent\"><img src=\"https://colab.research.google.com/assets/colab-badge.svg\" alt=\"Open In Colab\"/></a>"
      ]
    },
    {
      "cell_type": "markdown",
      "source": [
        "## **EJERCICIO 1**\n",
        "\n",
        "\n",
        "\n"
      ],
      "metadata": {
        "id": "UfjokEKZmVdE"
      }
    },
    {
      "cell_type": "code",
      "source": [
        "def Sueldo(sueldo):\n",
        "  return sueldo - (sueldo * 0.03 + sueldo * 0.0625)\n",
        "\n",
        "def Sueldo2(sueldo):\n",
        "  return (((sueldo - (sueldo * 0.03 + sueldo * 0.0625)) - 472.00) * 0.10) + 17.67\n",
        "\n",
        "def Sueldo3(sueldo):\n",
        "  return (((sueldo - (sueldo * 0.03 + sueldo * 0.0625)) - 895.24) * 0.20) + 60.00\n",
        "\n",
        "def Sueldo4(sueldo):\n",
        "  return (((sueldo - (sueldo * 0.03 + sueldo * 0.0625)) - 2038.10) * 0.30) + 288.57"
      ],
      "metadata": {
        "id": "7D0A2KKQoYJU"
      },
      "execution_count": null,
      "outputs": []
    },
    {
      "cell_type": "code",
      "source": [
        "sueldo = float (input(\"Ingrese un sueldo: \"))"
      ],
      "metadata": {
        "id": "GG8cUNfge3D5"
      },
      "execution_count": null,
      "outputs": []
    },
    {
      "cell_type": "code",
      "source": [
        "suel = Sueldo(sueldo)\n",
        "\n",
        "suel2 = Sueldo2(sueldo)\n",
        "\n",
        "suel3 = Sueldo3(sueldo)\n",
        "\n",
        "suel4 = Sueldo4(sueldo)"
      ],
      "metadata": {
        "id": "CmTEMGAxsUHI"
      },
      "execution_count": null,
      "outputs": []
    },
    {
      "cell_type": "code",
      "source": [
        "if sueldo <= 472.00:\n",
        "  print(\"Su sueldo es: \", suel)\n",
        "\n",
        "if sueldo >= 472.01 and sueldo <= 895.24: \n",
        "  print(\"En su sueldo de: \", sueldo, \", el descuento de impuesto de renta es: \", suel2)\n",
        "\n",
        "if sueldo >= 895.25 and sueldo <= 2038.10: \n",
        "  print(\"En su sueldo de: \", sueldo, \", el descuento de impuesto de renta es: \", suel3)\n",
        "\n",
        "if sueldo >= 2038.10: \n",
        "  print(\"En su sueldo de: \", sueldo, \", el descuento de impuesto de renta es: \", suel4)\n"
      ],
      "metadata": {
        "id": "duzS-sT8h_9c",
        "colab": {
          "base_uri": "https://localhost:8080/"
        },
        "outputId": "e71f927c-d4be-4218-fc92-7539cdcd5c55"
      },
      "execution_count": null,
      "outputs": [
        {
          "output_type": "stream",
          "name": "stdout",
          "text": [
            "Su sueldo es:  29.947499999999998\n"
          ]
        }
      ]
    },
    {
      "cell_type": "markdown",
      "source": [
        "## **EJERCICIO 2**"
      ],
      "metadata": {
        "id": "yKi9EXgfm7sE"
      }
    },
    {
      "cell_type": "code",
      "source": [
        "def cuota(metros):\n",
        "  return 6\n",
        "\n",
        "def cuota2(metros):\n",
        "  return ((metros - 18) * 0.45) + 6\n",
        "\n",
        "def cuota3(metros):\n",
        "  return ((metros - 28) * 0.65) + ((28 - 18) * 0.45) + 6 "
      ],
      "metadata": {
        "id": "v-cpy848nj-i"
      },
      "execution_count": null,
      "outputs": []
    },
    {
      "cell_type": "code",
      "source": [
        "metros = int(input(\"Ingrese número de metros: \"))"
      ],
      "metadata": {
        "id": "jNZ_ZQDsuIba"
      },
      "execution_count": null,
      "outputs": []
    },
    {
      "cell_type": "code",
      "source": [
        "cuo1 = cuota(metros)\n",
        "\n",
        "cuo2 = cuota2(metros)\n",
        "\n",
        "cuo3 = cuota3(metros)"
      ],
      "metadata": {
        "id": "BbyFVbQopoju"
      },
      "execution_count": null,
      "outputs": []
    },
    {
      "cell_type": "code",
      "source": [
        "if metros >=1 and metros <= 18:\n",
        "  print(\"En\", metros,\"metro/os\" \" Usted tiene que pagar $\", cuo1)\n",
        "\n",
        "if metros >=19 and metros <= 28:\n",
        "  print(\"En\", metros,\"metros\" \" Usted tiene que pagar $\", cuo2)\n",
        "\n",
        "if metros >=29:\n",
        "  print(\"En\", metros,\"metros\" \" Usted tiene que pagar $\", cuo3)"
      ],
      "metadata": {
        "id": "BVQuOAsknhs9",
        "colab": {
          "base_uri": "https://localhost:8080/"
        },
        "outputId": "3caf959b-f194-4323-b6e2-df77b9a048ca"
      },
      "execution_count": null,
      "outputs": [
        {
          "output_type": "stream",
          "name": "stdout",
          "text": [
            "En 555 metros Usted tiene que pagar $ 353.05\n"
          ]
        }
      ]
    },
    {
      "cell_type": "markdown",
      "source": [
        "## **EJERCICIO 3**"
      ],
      "metadata": {
        "id": "3ilNXZ97nOvQ"
      }
    },
    {
      "cell_type": "code",
      "source": [
        "print(\"Ingrese un número: \")\n",
        "a = int(input())\n",
        "b = 0\n",
        "for i in range(1, a+1):\n",
        "  print(i)\n",
        "  b=b+i\n",
        "  print(\"El valor acumulado es: \", b)"
      ],
      "metadata": {
        "id": "BI7FI1Y0njBy"
      },
      "execution_count": null,
      "outputs": []
    },
    {
      "cell_type": "markdown",
      "source": [
        "## **EJERCICIO 4**"
      ],
      "metadata": {
        "id": "xHQ-_TgCA9Vk"
      }
    },
    {
      "cell_type": "code",
      "source": [
        "etiquetas = [\n",
        "    0,\n",
        "    [\"Seleccione un moneda\", \"1. Dolar\", \"2. Euro\", \"3. Peso Mexicano\", \"4. Lempira\", \"5. Cordoba\", \"6. Real Brasileño\", \"7. Rupia India\", \"8. Won Surcoreano\", \"9. Yen Japonés\", \"10. Sol Peruano\"],\n",
        "    [\"Seleccione una longitud\", \"1. Milla\", \"2. Kilómetro\", \"3. Metro\", \"4. Centímetro\", \"5. Milímetro\", \"6. Micrómetro\", \"7. Nanómetro\", \"8. Yarda\", \"9. Pie\", \"10. Pulgada\"],\n",
        "    [\"Seleccione una masa\", \"1. Kilogramo\", \"2. Hectogramo\", \"3. Decagram\", \"4. Gramo\", \"5. Quilate\", \"6. Centigramo\", \"7. Miligramo\", \"8. Microgramo\", \"9. Nanogramo\", \"10. Tonelada\"],\n",
        "    [\"Selecione un almacenamiento\", \"1. GigaByte\", \"2. Bit\", \"3. Byte\", \"4. KiloByte\", \"5. MegaByte\", \"6. TeraByte\", \"7. PetaByte\", \"8. ExaByte\", \"9. GigaBit\", \"10. MegaBit\"],\n",
        "    [\"Seleccione un tiempo\", \"1. Hora\", \"2. Años\", \"3. Meses\", \"4. Semanas\", \"5. Días\", \"6. Minutos\", \"7. Segundos\", \"8. Milisegundos\", \"9. Microsegundos\", \"10. Nanosegundos\"],\n",
        "    [\"Seleccione un volumen\", \"1. Libra\", \"2. Metro cúbico\", \"3. Mililitro\", \"4. Galón imperial\", \"5. Cuarto imperial\", \"6. Pinta imperial\", \"7. Taza imperial\", \"8. Onza líquida imperial\", \"9. Pie cúbico\", \"10. Pulgada cúbica\"],\n",
        "    [\"Seleccione una área\", \"1. Metro cuadrado\", \"2. Kilómetro cuadrado\", \"3. Hectárea\", \"4. Área\", \"5. Decímetro cuadrado\", \"6. Centímetro cuadrado\", \"7. Milímetro cuadrado\", \"8. Yarda cuadrada\", \"9. Pie cuadrado\", \"10. Pulgada cuadrada\"]\n",
        "    ]\n",
        "\n",
        "valores = [0,\n",
        "  [0, 1, 1.00, 19.93, 24.49, 35.96, 5.11, 79.88, 1334.94, 136.46, 3.86],\n",
        "  [0, 1, 1.60934, 1609.34, 160934, 1609344, 1609344000, 1609344000000, 1760, 5280, 63360],\n",
        "  [0, 1, 10, 100, 1000, 5000, 100000, 1000000, 1000000000, 1000000000000, 0.001],\n",
        "  [0, 1, 8589934592, 1073741824, 1048576, 1024, 0.001, 0.000000954, 0.000000000931, 8, 8000],\n",
        "  [0, 1, 0.000114, 0.00137, 0.01, 0.04, 60, 3600, 3600000, 3600000000, 3600000000000],\n",
        "  [0, 1, 0.001, 1000, 0.219969, 0.879877, 1.75975, 3.51951, 35.1951, 0.0353147, 61.0237],\n",
        "  [0, 1, 0.000001, 0.0001, 0.01, 100, 10000, 1000000, 1.2, 10.76, 1550]\n",
        "]"
      ],
      "metadata": {
        "id": "tNTg5_hhnlOg"
      },
      "execution_count": null,
      "outputs": []
    },
    {
      "cell_type": "code",
      "source": [
        "def convertir(opcion, de, a, cantidad):\n",
        "  return valores[opcion][a] / valores[opcion][de] * cantidad"
      ],
      "metadata": {
        "id": "ZpWyaogonlIz"
      },
      "execution_count": null,
      "outputs": []
    },
    {
      "cell_type": "code",
      "source": [
        "print(\"** MENU DE CONVERSORES **\")\n",
        "print(\"1. Monedas\")\n",
        "print(\"2. Longitud\")\n",
        "print(\"3. Masa\")\n",
        "print(\"4. Almacenamiento\")\n",
        "print(\"5. Tiempo\")\n",
        "print(\"6. Volumen\")\n",
        "print(\"7. Área\")\n",
        "opcion = int(input(\"Opcion: \"))\n",
        "\n",
        "print( etiquetas[opcion] )\n",
        "de = int(input(\"DE: \"))\n",
        "a = int(input(\"A: \"))\n",
        "cantidad = float(input(\"Cantidad: \"))\n",
        "\n",
        "print( etiquetas[opcion][de], \" en \", etiquetas[opcion][a], \" equivale a: \", convertir(opcion, de, a, cantidad) )"
      ],
      "metadata": {
        "id": "rZUr2GFP_vhj"
      },
      "execution_count": null,
      "outputs": []
    },
    {
      "cell_type": "markdown",
      "source": [
        "## **EJERCICIO 5**"
      ],
      "metadata": {
        "id": "k0L0MmWfndra"
      }
    },
    {
      "cell_type": "code",
      "source": [
        "etique = [\n",
        "    0,\n",
        "    [\"Seleccione lo que desea convertir\", \"1. Caja\", \"2. Unidades\"],\n",
        "    [\"Seleccione lo que desea convertir\", \"1. Saco\", \"2. Libras\"],\n",
        "    [\"Seleccione lo que desea convertir\", \"1. Fardo\", \"2. Unidades\"]\n",
        "    ]\n",
        "\n",
        "valor = [0,\n",
        "  [0, 1, 25],\n",
        "  [0, 1, 50],\n",
        "  [0, 1, 5],\n",
        " \n",
        "]"
      ],
      "metadata": {
        "id": "rUdDy7Z6nlvj"
      },
      "execution_count": null,
      "outputs": []
    },
    {
      "cell_type": "code",
      "source": [
        "def convertir(opcion, de, a, cantidad):\n",
        "  return valor[opcion][a] / valor[opcion][de] * cantidad"
      ],
      "metadata": {
        "id": "32UROHm-nW22"
      },
      "execution_count": null,
      "outputs": []
    },
    {
      "cell_type": "code",
      "source": [
        "print(\"** MENU DE CONVERSORES **\")\n",
        "print(\"1. Cajas/Unidades\")\n",
        "print(\"2. Saco/Libras\")\n",
        "print(\"3. Fardo/Unidades\")\n",
        "\n",
        "opcion = int(input(\"Opcion: \"))\n",
        "\n",
        "print( etique[opcion] )\n",
        "de = int(input(\"DE: \"))\n",
        "a = int(input(\"A: \"))\n",
        "cantidad = float(input(\"Cantidad: \"))\n",
        "\n",
        "print( etique[opcion][de], \" en \", etique[opcion][a], \" equivale a: \", convertir(opcion, de, a, cantidad) )"
      ],
      "metadata": {
        "id": "RC1_8M3bc9Q8"
      },
      "execution_count": null,
      "outputs": []
    }
  ],
  "metadata": {
    "colab": {
      "collapsed_sections": [
        "UfjokEKZmVdE",
        "yKi9EXgfm7sE",
        "xHQ-_TgCA9Vk",
        "k0L0MmWfndra"
      ],
      "name": "Estructuras de control",
      "toc_visible": true,
      "provenance": [],
      "include_colab_link": true
    },
    "kernelspec": {
      "display_name": "Python 3",
      "name": "python3"
    }
  },
  "nbformat": 4,
  "nbformat_minor": 0
}