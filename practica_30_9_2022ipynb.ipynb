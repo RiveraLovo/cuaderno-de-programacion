{
  "nbformat": 4,
  "nbformat_minor": 0,
  "metadata": {
    "colab": {
      "provenance": [],
      "collapsed_sections": [],
      "authorship_tag": "ABX9TyPDVoskHnMPInNqY9sONQOp",
      "include_colab_link": true
    },
    "kernelspec": {
      "name": "python3",
      "display_name": "Python 3"
    },
    "language_info": {
      "name": "python"
    }
  },
  "cells": [
    {
      "cell_type": "markdown",
      "metadata": {
        "id": "view-in-github",
        "colab_type": "text"
      },
      "source": [
        "<a href=\"https://colab.research.google.com/github/RiveraLovo/cuaderno-de-programacion/blob/main/practica_30_9_2022ipynb.ipynb\" target=\"_parent\"><img src=\"https://colab.research.google.com/assets/colab-badge.svg\" alt=\"Open In Colab\"/></a>"
      ]
    },
    {
      "cell_type": "markdown",
      "source": [
        "celcius a fare"
      ],
      "metadata": {
        "id": "G4u2ynbwJlt9"
      }
    },
    {
      "cell_type": "code",
      "execution_count": 53,
      "metadata": {
        "id": "LBWDPDM_-4AO"
      },
      "outputs": [],
      "source": [
        "import tensorflow as tf\n",
        "import matplotlib.pyplot as plt\n",
        "import pandas as pd\n",
        "import seaborn as sb"
      ]
    },
    {
      "cell_type": "code",
      "source": [
        "temperaturas = pd.read_csv(\"/content/temperaturas.csv\", sep=\";\")\n",
        "print(temperaturas)"
      ],
      "metadata": {
        "colab": {
          "base_uri": "https://localhost:8080/"
        },
        "id": "futvyUfkAAVa",
        "outputId": "74d5c21c-0e9c-4582-fef8-34cc7fc53b54"
      },
      "execution_count": 24,
      "outputs": [
        {
          "output_type": "stream",
          "name": "stdout",
          "text": [
            "     c      f\n",
            "0  -40  -40.0\n",
            "1  -20   -4.0\n",
            "2  -10   14.0\n",
            "3   -5   23.0\n",
            "4   -4   24.8\n",
            "5   -3   26.6\n",
            "6   -2   28.4\n",
            "7   -1   32.0\n",
            "8    0   32.0\n",
            "9    1   33.8\n",
            "10   2   35.6\n",
            "11   3   37.4\n",
            "12   4   39.4\n",
            "13   5   41.0\n",
            "14  10   50.0\n",
            "15  20   68.0\n",
            "16  30   86.0\n",
            "17  40  104.0\n"
          ]
        }
      ]
    },
    {
      "cell_type": "code",
      "source": [
        "c = temperaturas[\"c\"]\n",
        "f = temperaturas[\"f\"]\n"
      ],
      "metadata": {
        "id": "1fpvuG1bBFAA"
      },
      "execution_count": 26,
      "outputs": []
    },
    {
      "cell_type": "code",
      "source": [
        "sb.scatterplot(c,f)\n",
        "plt.show()"
      ],
      "metadata": {
        "colab": {
          "base_uri": "https://localhost:8080/",
          "height": 334
        },
        "id": "RVdCtuQtBlPn",
        "outputId": "a77df04c-0bf1-495d-c2b7-18698d988108"
      },
      "execution_count": 54,
      "outputs": [
        {
          "output_type": "stream",
          "name": "stderr",
          "text": [
            "/usr/local/lib/python3.7/dist-packages/seaborn/_decorators.py:43: FutureWarning: Pass the following variables as keyword args: x, y. From version 0.12, the only valid positional argument will be `data`, and passing other arguments without an explicit keyword will result in an error or misinterpretation.\n",
            "  FutureWarning\n"
          ]
        },
        {
          "output_type": "display_data",
          "data": {
            "text/plain": [
              "<Figure size 432x288 with 1 Axes>"
            ],
            "image/png": "[encoded data removed]"
          },
          "metadata": {
            "needs_background": "light"
          }
        }
      ]
    },
    {
      "cell_type": "code",
      "source": [
        "modelo = tf.keras.Sequential()\n",
        "modelo.add(tf.keras.layers.Dense(units=1, input_shape=[1]))"
      ],
      "metadata": {
        "id": "dh7lG9WUCBef"
      },
      "execution_count": 47,
      "outputs": []
    },
    {
      "cell_type": "code",
      "source": [
        "modelo.compile(optimizer=tf.keras.optimizers.Adam(1), loss=\"mean_squared_error\")"
      ],
      "metadata": {
        "id": "YmdzkNbfC7D1"
      },
      "execution_count": 48,
      "outputs": []
    },
    {
      "cell_type": "code",
      "source": [
        "epocas = modelo.fit(c,f, epochs=200, verbose=0)"
      ],
      "metadata": {
        "id": "4DjYXHbjDf16"
      },
      "execution_count": 50,
      "outputs": []
    },
    {
      "cell_type": "code",
      "source": [
        "#probar IA\n",
        "resp = modelo.predict([5778])\n",
        "print(resp)"
      ],
      "metadata": {
        "colab": {
          "base_uri": "https://localhost:8080/"
        },
        "id": "etPEzVgOEhUR",
        "outputId": "bc725661-bcf2-4264-f357-27009b5f80fd"
      },
      "execution_count": 51,
      "outputs": [
        {
          "output_type": "stream",
          "name": "stdout",
          "text": [
            "[[10427.925]]\n"
          ]
        }
      ]
    },
    {
      "cell_type": "markdown",
      "source": [
        "faren a celcius "
      ],
      "metadata": {
        "id": "Fc4JPDHGJsDL"
      }
    },
    {
      "cell_type": "code",
      "source": [
        "temperaturas1 = pd.read_csv(\"/content/temperaturas1.csv\", sep=\";\")\n",
        "print(temperaturas1)"
      ],
      "metadata": {
        "colab": {
          "base_uri": "https://localhost:8080/"
        },
        "id": "bxP_h1IXJrR0",
        "outputId": "caab5c31-4755-436c-f9a0-b0e924ce18eb"
      },
      "execution_count": 55,
      "outputs": [
        {
          "output_type": "stream",
          "name": "stdout",
          "text": [
            "     f         c\n",
            "0  -40 -40.00000\n",
            "1  -20 -28.88890\n",
            "2  -10 -23.33330\n",
            "3   -5 -20.55560\n",
            "4   -4 -20.00000\n",
            "5   -3 -19.44440\n",
            "6   -2 -18.88890\n",
            "7   -1 -18.33330\n",
            "8    0 -17.77780\n",
            "9    1 -17.22220\n",
            "10   2 -16.66670\n",
            "11   3 -16.11110\n",
            "12   4 -15.55560\n",
            "13   5 -15.55560\n",
            "14  10 -12.22220\n",
            "15  20  -6.66667\n",
            "16  30  -1.11111\n",
            "17  40   4.44444\n"
          ]
        }
      ]
    },
    {
      "cell_type": "code",
      "source": [
        "f = temperaturas[\"f\"]\n",
        "c = temperaturas[\"c\"]"
      ],
      "metadata": {
        "id": "3Y6jnhygLoVg"
      },
      "execution_count": 56,
      "outputs": []
    },
    {
      "cell_type": "code",
      "source": [
        "sb.scatterplot(f,c)\n",
        "plt.show()"
      ],
      "metadata": {
        "colab": {
          "base_uri": "https://localhost:8080/",
          "height": 334
        },
        "id": "-sopt1mWLuiX",
        "outputId": "320a9d6c-e014-4809-98aa-ba1d2cd878e4"
      },
      "execution_count": 57,
      "outputs": [
        {
          "output_type": "stream",
          "name": "stderr",
          "text": [
            "/usr/local/lib/python3.7/dist-packages/seaborn/_decorators.py:43: FutureWarning: Pass the following variables as keyword args: x, y. From version 0.12, the only valid positional argument will be `data`, and passing other arguments without an explicit keyword will result in an error or misinterpretation.\n",
            "  FutureWarning\n"
          ]
        },
        {
          "output_type": "display_data",
          "data": {
            "text/plain": [
              "<Figure size 432x288 with 1 Axes>"
            ],
            "image/png": "[encoded data removed]"
          },
          "metadata": {
            "needs_background": "light"
          }
        }
      ]
    },
    {
      "cell_type": "code",
      "source": [
        "modelo = tf.keras.Sequential()\n",
        "modelo.add(tf.keras.layers.Dense(units=1, input_shape=[1]))"
      ],
      "metadata": {
        "id": "Y1hNMO5NL0fP"
      },
      "execution_count": 58,
      "outputs": []
    },
    {
      "cell_type": "code",
      "source": [
        "modelo.compile(optimizer=tf.keras.optimizers.Adam(1), loss=\"mean_squared_error\")"
      ],
      "metadata": {
        "id": "-qx0-1eCMD7v"
      },
      "execution_count": 59,
      "outputs": []
    },
    {
      "cell_type": "code",
      "source": [
        "epocas = modelo.fit(f,c, epochs=20, verbose=0)"
      ],
      "metadata": {
        "id": "cRY21TtuMTe3"
      },
      "execution_count": 63,
      "outputs": []
    },
    {
      "cell_type": "code",
      "source": [
        "resp = modelo.predict([5778])\n",
        "print(resp)"
      ],
      "metadata": {
        "colab": {
          "base_uri": "https://localhost:8080/"
        },
        "id": "pTuhT1I3Maym",
        "outputId": "86ec96db-d238-4a05-fb32-6254349d0bb7"
      },
      "execution_count": 64,
      "outputs": [
        {
          "output_type": "stream",
          "name": "stdout",
          "text": [
            "[[1949.4269]]\n"
          ]
        }
      ]
    }
  ]
}